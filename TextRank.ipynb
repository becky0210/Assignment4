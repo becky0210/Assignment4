{
 "cells": [
  {
   "cell_type": "code",
   "execution_count": 18,
   "metadata": {},
   "outputs": [
    {
     "name": "stdout",
     "output_type": "stream",
     "text": [
      "=====关键词====：\n",
      "学生 0.07043939302429193\n",
      "情况 0.038734317349878644\n",
      "教学 0.026612121575077585\n",
      "做好 0.025632760456095357\n",
      "中小学 0.023854740247178097\n",
      "指导 0.023638190521229337\n",
      "课程 0.02162430921495099\n",
      "安排 0.02140243820492623\n",
      "辖区 0.020914410993417676\n",
      "肺炎 0.01917853841578451\n",
      "培训 0.018749022474729028\n",
      "组织 0.018424061460280965\n",
      "严禁 0.0182488257337029\n",
      "疫情 0.01815665647381768\n",
      "学校 0.01796770469584519\n",
      "学习 0.017927354902003173\n",
      "生活 0.017903646132749036\n",
      "要求 0.01756376001316875\n",
      "假期 0.01751891605003499\n",
      "发展 0.017051033041962482\n",
      "=====摘要======：\n",
      "2 0.1897061211865064 2月10日开始，各区教育局组织辖区中小学、中职学校，按照教学计划安排，开展在线课程教学（方案另发）\n",
      "5 0.18631939168693762 要关注学生心理健康，建立离校学生情况日报制度，定期向学生了解相关情况，通过电话、网络等各种方式做好学生的个性化辅导\n",
      "3 0.16344569808058393 正式开学前，严禁市属各级各类学校组织各类线下课程教学、培训和集体活动\n"
     ]
    }
   ],
   "source": [
    "\n",
    "para=''\n",
    "with open(file = 'news.txt', mode = 'r', encoding='latin1') as f:\n",
    "    line = f.readline()\n",
    "    while line:                  \n",
    "        \n",
    "        line = f.readline()\n",
    "        para=para+line\n",
    "        \n",
    "text=para.encode('latin1').decode('gbk')\n",
    "\n",
    "\n",
    "\n",
    "#-*- encoding:utf-8 -*-\n",
    "from textrank4zh import TextRank4Keyword, TextRank4Sentence\n",
    "import jieba\n",
    "\n",
    "# 输出关键词，设置文本小写，窗口为3\n",
    "tr4w = TextRank4Keyword()\n",
    "tr4w.analyze(text=text, lower=True, window=3)\n",
    "print('=====关键词====：')\n",
    "for item in tr4w.get_keywords(20, word_min_len=2):\n",
    "    print(item.word, item.weight)\n",
    "\n",
    "\n",
    "# 输出重要的句子\n",
    "tr4s = TextRank4Sentence()\n",
    "tr4s.analyze(text=text, lower=True, source = 'all_filters')\n",
    "print('=====摘要======：')\n",
    "# 重要性较高的三个句子\n",
    "for item in tr4s.get_key_sentences(num=3):\n",
    "\t# index是语句在文本中位置，weight表示权重\n",
    "    print(item.index, item.weight, item.sentence)\n"
   ]
  },
  {
   "cell_type": "code",
   "execution_count": null,
   "metadata": {},
   "outputs": [],
   "source": []
  }
 ],
 "metadata": {
  "kernelspec": {
   "display_name": "Python 3",
   "language": "python",
   "name": "python3"
  },
  "language_info": {
   "codemirror_mode": {
    "name": "ipython",
    "version": 3
   },
   "file_extension": ".py",
   "mimetype": "text/x-python",
   "name": "python",
   "nbconvert_exporter": "python",
   "pygments_lexer": "ipython3",
   "version": "3.7.0"
  }
 },
 "nbformat": 4,
 "nbformat_minor": 2
}
